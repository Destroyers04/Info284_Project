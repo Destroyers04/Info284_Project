{
 "cells": [
  {
   "cell_type": "markdown",
   "metadata": {},
   "source": [
    "Info-284 Group exam\n",
    "Group members: Heejung Yu, Tsz Ching, Sverre-Emil and Aaron Male"
   ]
  },
  {
   "cell_type": "markdown",
   "metadata": {},
   "source": [
    "# Table of Contents\n",
    "1. [Introduction](#Introduction)\n",
    "2. [Preprocessing](#Preprocessing)\n",
    "    - [Feature](#Features)\n",
    "    - [Outlier handling](#Outlier)"
   ]
  },
  {
   "cell_type": "markdown",
   "metadata": {},
   "source": [
    "## Introduction \n",
    "After taking a quick look at the dataset and the documents that was provided with it, we figured we wanted to try to predict if an entry is a Bycatch. We believe that by being able to predict Bycatch we can find out if there are any boats that are not reporting their catches properly. We classify an entry as a Bycatch if the \"Hovedart FAO\" does not match with \"Art FAO\". We are aware this definition of a Bycatch is somewhat limited especially considering the way \"Hovedart FAO\" is chosen, but if we are to define Bycatch as species that are not the top 2-3 species we would need more data."
   ]
  },
  {
   "cell_type": "code",
   "execution_count": null,
   "metadata": {},
   "outputs": [],
   "source": [
    "import warnings # Got an irritating warning\n",
    "warnings.filterwarnings('ignore')\n",
    "import pandas as pd\n",
    "import matplotlib.pyplot as plt\n",
    "import numpy as np\n",
    "pd.set_option('display.max_columns',None)\n",
    "pd.set_option('display.max_rows', None)\n",
    "pd.set_option('float_format', '{:f}'.format)"
   ]
  },
  {
   "cell_type": "code",
   "execution_count": null,
   "metadata": {},
   "outputs": [],
   "source": [
    "dataset = pd.read_csv(\"H:\\Informasjonsvitenskap\\Programming\\Python\\Info-284\\Info284_Project\\Exam Task\\Dataset\\elektronisk-rapportering-ers-2018-fangstmelding-dca-simple.csv\", sep=\";\")\n",
    "\n",
    "# Dataset where the species isn't the same as the main-species\n",
    "bycatch = dataset[dataset['Art FAO'] != dataset['Hovedart FAO']]\n",
    "main_species = dataset[dataset['Art FAO'] == dataset['Hovedart FAO']]"
   ]
  },
  {
   "cell_type": "markdown",
   "metadata": {},
   "source": [
    "## Preprocessing\n",
    "\n",
    "### Features\n",
    "When choosing features to use from the dataset, we divided the 45 different columns into 8 different categories. \n",
    "<br>\n",
    "<br>\n",
    "The 8 categories are as follows:\n",
    "<ul>\n",
    "<li>Species</li>\n",
    "<li>Equipments used</li>\n",
    "<li>Gross weight of catch</li>\n",
    "<li>Boat information</li>\n",
    "<li>Location of trip</li>\n",
    "<li>Drag distance</li>\n",
    "<li>Duration</li>\n",
    "<li>Time</li>\n",
    "</ul>\n",
    "\n",
    "We chose to use the following features in our ML model: art, hovedart, redskap, rundvekt, lengdegruppe, hovedområde.\n",
    "\n",
    "Our methodology in picking the features was first seeing how the data could be relevant for our prediction, we then plotted the data from each feature into various graphs to see the distribution and also looked at the relationship between one feature and the other."
   ]
  },
  {
   "cell_type": "code",
   "execution_count": null,
   "metadata": {},
   "outputs": [],
   "source": []
  },
  {
   "cell_type": "markdown",
   "metadata": {},
   "source": [
    "### Features"
   ]
  }
 ],
 "metadata": {
  "kernelspec": {
   "display_name": "Python 3",
   "language": "python",
   "name": "python3"
  },
  "language_info": {
   "name": "python",
   "version": "3.11.5"
  }
 },
 "nbformat": 4,
 "nbformat_minor": 2
}
