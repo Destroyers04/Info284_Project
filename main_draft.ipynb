{
 "cells": [
  {
   "cell_type": "markdown",
   "metadata": {},
   "source": [
    "Info-284 Group exam\n",
    "Group members: Heejung Yu, Tsz Ching, Sverre-Emil and Aaron Male"
   ]
  },
  {
   "cell_type": "markdown",
   "metadata": {},
   "source": [
    "# Introduction \n",
    "\n",
    "After taking a quick look at the dataset and the documents that was provided with it, we figured we wanted to try to predict by-catch. We believe that by being able to predict by-catch we can find out if there are any boats that are not reporting their catches properly. \n",
    "we classify an entry as a by-catch if the \"Hovedart FAO\" is not the same as the \"Art FAO\". "
   ]
  },
  {
   "cell_type": "code",
   "execution_count": null,
   "metadata": {
    "vscode": {
     "languageId": "plaintext"
    }
   },
   "outputs": [],
   "source": [
    "# Imports"
   ]
  },
  {
   "cell_type": "markdown",
   "metadata": {},
   "source": [
    "Preprocessing of the data"
   ]
  },
  {
   "cell_type": "markdown",
   "metadata": {},
   "source": [
    "Finding out what features were relevant when trying to predict by-catch:"
   ]
  }
 ],
 "metadata": {
  "language_info": {
   "name": "python"
  }
 },
 "nbformat": 4,
 "nbformat_minor": 2
}
