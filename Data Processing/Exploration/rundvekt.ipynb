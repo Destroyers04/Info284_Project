{
 "cells": [
  {
   "cell_type": "markdown",
   "metadata": {},
   "source": [
    "# Is gross weight information relevant when it comes to Bycatch\n",
    "\n",
    "- How can we see if gross weight in predicting Bycatch?\n",
    "- this is pretty straight forward considering that just from looking at the dataset and reading the document you can see that the way they calculate main species is by gross weight which implies that if it is a bycatch it will have a tendency to be lower than if it were the main catch. "
   ]
  },
  {
   "cell_type": "code",
   "execution_count": 3,
   "metadata": {},
   "outputs": [],
   "source": [
    "import warnings # Got an irritating warning\n",
    "warnings.filterwarnings('ignore')\n",
    "import pandas as pd\n",
    "pd.set_option('display.max_columns',None)\n",
    "pd.set_option('display.max_rows', None)\n",
    "import matplotlib.pyplot as plt\n",
    "import numpy as np\n",
    "pd.set_option('float_format', '{:f}'.format)"
   ]
  },
  {
   "cell_type": "code",
   "execution_count": 4,
   "metadata": {},
   "outputs": [],
   "source": [
    "dataset = pd.read_csv(\"H:\\Informasjonsvitenskap\\Programming\\Python\\Info-284\\Info284_Project\\Exam Task\\Dataset\\elektronisk-rapportering-ers-2018-fangstmelding-dca-simple.csv\", sep=\";\")\n",
    "\n",
    "# We will be taking a look at torsk only dataset because it has the most entries. \n",
    "torsk_only = dataset[dataset['Art FAO'] == \"Torsk\"]\n",
    "bycatch = torsk_only[torsk_only['Art FAO'] != torsk_only['Hovedart FAO']]\n",
    "main_species = torsk_only[torsk_only['Art FAO'] == torsk_only['Hovedart FAO']]\n"
   ]
  },
  {
   "cell_type": "code",
   "execution_count": 5,
   "metadata": {},
   "outputs": [
    {
     "name": "stdout",
     "output_type": "stream",
     "text": [
      "count   31512.000000\n",
      "mean      922.864179\n",
      "std      1676.207008\n",
      "min         0.000000\n",
      "25%        70.000000\n",
      "50%       242.500000\n",
      "75%       940.500000\n",
      "max     30000.000000\n",
      "Name: Rundvekt, dtype: float64\n",
      "count    25062.000000\n",
      "mean      7818.083034\n",
      "std       8111.043449\n",
      "min          0.000000\n",
      "25%       2328.000000\n",
      "50%       5895.000000\n",
      "75%      10825.750000\n",
      "max     444994.000000\n",
      "Name: Rundvekt, dtype: float64\n"
     ]
    }
   ],
   "source": [
    "print(bycatch[\"Rundvekt\"].describe())\n",
    "print(main_species[\"Rundvekt\"].describe())"
   ]
  },
  {
   "cell_type": "markdown",
   "metadata": {},
   "source": [
    "As you can see there is a large difference for every percentile, and the mean is much higher. "
   ]
  }
 ],
 "metadata": {
  "kernelspec": {
   "display_name": "venv",
   "language": "python",
   "name": "python3"
  },
  "language_info": {
   "codemirror_mode": {
    "name": "ipython",
    "version": 3
   },
   "file_extension": ".py",
   "mimetype": "text/x-python",
   "name": "python",
   "nbconvert_exporter": "python",
   "pygments_lexer": "ipython3",
   "version": "3.9.18"
  }
 },
 "nbformat": 4,
 "nbformat_minor": 2
}
