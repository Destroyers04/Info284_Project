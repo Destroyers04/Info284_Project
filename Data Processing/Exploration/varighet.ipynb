{
 "cells": [
  {
   "cell_type": "markdown",
   "metadata": {},
   "source": [
    "# How can we see if duration affects Bycatches\n",
    "\n",
    "-   do longer boat trips result in more bycatch than shorter boat trips?\n",
    "\t\n",
    "-   compare boat trip duration in bycatch dataset vs duration generally\n",
    "-   is there a difference in average duration when it comes to bycatch"
   ]
  },
  {
   "cell_type": "code",
   "execution_count": 2,
   "metadata": {},
   "outputs": [],
   "source": [
    "import warnings # Got an irritating warning\n",
    "warnings.filterwarnings('ignore')\n",
    "import pandas as pd\n",
    "pd.set_option('display.max_columns',None)\n",
    "pd.set_option('display.max_rows', None)\n",
    "import matplotlib.pyplot as plt\n",
    "import numpy as np"
   ]
  },
  {
   "cell_type": "code",
   "execution_count": 3,
   "metadata": {},
   "outputs": [],
   "source": [
    "dataset = pd.read_csv(\"H:\\Informasjonsvitenskap\\Programming\\Python\\Info-284\\Info284_Project\\Exam Task\\Dataset\\elektronisk-rapportering-ers-2018-fangstmelding-dca-simple.csv\", sep=\";\")\n",
    "\n",
    "# Dataset where the species isn't the same as the main-species\n",
    "bycatch = dataset[dataset['Art FAO'] != dataset['Hovedart FAO']]"
   ]
  },
  {
   "cell_type": "code",
   "execution_count": 10,
   "metadata": {},
   "outputs": [
    {
     "name": "stdout",
     "output_type": "stream",
     "text": [
      "count    210128.000000\n",
      "mean        414.088165\n",
      "std         588.217837\n",
      "min           0.000000\n",
      "25%         138.000000\n",
      "50%         306.000000\n",
      "75%         547.000000\n",
      "max      120906.000000\n",
      "Name: Varighet, dtype: float64\n"
     ]
    }
   ],
   "source": [
    "print(bycatch[\"Varighet\"].describe())\n"
   ]
  },
  {
   "cell_type": "code",
   "execution_count": 11,
   "metadata": {},
   "outputs": [
    {
     "name": "stdout",
     "output_type": "stream",
     "text": [
      "count    305434.000000\n",
      "mean        537.095526\n",
      "std        2201.624688\n",
      "min           0.000000\n",
      "25%         123.000000\n",
      "50%         296.000000\n",
      "75%         494.000000\n",
      "max      125534.000000\n",
      "Name: Varighet, dtype: float64\n"
     ]
    }
   ],
   "source": [
    "print(dataset[\"Varighet\"].describe())"
   ]
  },
  {
   "cell_type": "code",
   "execution_count": 16,
   "metadata": {},
   "outputs": [
    {
     "name": "stdout",
     "output_type": "stream",
     "text": [
      "Redskap FAO\n",
      "Teiner                                    7120.671018\n",
      "Settegarn                                 1167.919877\n",
      "Encircling gillnets*                      1118.481375\n",
      "Setteline                                  878.729540\n",
      "Andre liner                                685.464959\n",
      "Bunntrål, reke                             614.010024\n",
      "Udefinert garn                             613.513950\n",
      "Flytetrål, otter                           514.411054\n",
      "Gillnets and entangling nets (unspec)*     478.632279\n",
      "Flytetrål, reke                            478.232558\n",
      "Bunntrål (uspes)                           473.765994\n",
      "Annen trål (udefinert)                     470.652000\n",
      "Dorg/harp/snik                             431.375000\n",
      "Flytetrål, uspesifisert                    395.305470\n",
      "Udefinert trål                             386.900000\n",
      "Flytetrål, par                             348.135582\n",
      "Bunntrål, par                              342.558021\n",
      "Bunntrål, otter                            324.147443\n",
      "Skrape, mekanisert                         276.495671\n",
      "Partrål, uspesifisert                      271.682848\n",
      "Otter dobbeltrål                           256.141749\n",
      "Boat /vessel seines -Pair seines           252.572950\n",
      "Juksa/pilk, manuell                        251.157895\n",
      "Snurrevad, dansk                           130.506494\n",
      "Snurpenot/ringnot, et fartøy               115.218944\n",
      "Snurpenot/ringnot                          114.455505\n",
      "Snurrevad                                  103.677732\n",
      "Snurrevad, skotsk                          101.760228\n",
      "Snurpenot/ringnot, to fartøy                99.385658\n",
      "Harpun,div.                                 44.623482\n",
      "Name: Varighet, dtype: float64\n"
     ]
    }
   ],
   "source": [
    "print((dataset.groupby([\"Redskap FAO\"])[\"Varighet\"].mean()).sort_values(ascending=False))"
   ]
  },
  {
   "cell_type": "code",
   "execution_count": 18,
   "metadata": {},
   "outputs": [
    {
     "name": "stdout",
     "output_type": "stream",
     "text": [
      "Redskap FAO\n",
      "Teiner                                    4746.269663\n",
      "Settegarn                                 1198.858065\n",
      "Encircling gillnets*                      1130.833948\n",
      "Setteline                                  877.414754\n",
      "Andre liner                                681.373671\n",
      "Bunntrål, reke                             646.923214\n",
      "Udefinert garn                             618.547266\n",
      "Annen trål (udefinert)                     551.435374\n",
      "Flytetrål, reke                            487.253602\n",
      "Gillnets and entangling nets (unspec)*     485.960541\n",
      "Bunntrål (uspes)                           476.086380\n",
      "Flytetrål, uspesifisert                    431.038905\n",
      "Flytetrål, par                             351.763636\n",
      "Udefinert trål                             349.571429\n",
      "Flytetrål, otter                           341.148042\n",
      "Bunntrål, otter                            331.106269\n",
      "Bunntrål, par                              319.611522\n",
      "Dorg/harp/snik                             299.000000\n",
      "Partrål, uspesifisert                      272.539062\n",
      "Juksa/pilk, manuell                        264.750000\n",
      "Otter dobbeltrål                           257.464483\n",
      "Boat /vessel seines -Pair seines           253.030038\n",
      "Skrape, mekanisert                         230.000000\n",
      "Snurrevad, dansk                           134.450000\n",
      "Snurpenot/ringnot                          120.258993\n",
      "Snurpenot/ringnot, et fartøy               114.291397\n",
      "Snurrevad                                  104.431108\n",
      "Snurrevad, skotsk                          102.521761\n",
      "Snurpenot/ringnot, to fartøy                89.997199\n",
      "Harpun,div.                                  2.666667\n",
      "Name: Varighet, dtype: float64\n"
     ]
    }
   ],
   "source": [
    "print((bycatch.groupby([\"Redskap FAO\"])[\"Varighet\"].mean()).sort_values(ascending=False))"
   ]
  },
  {
   "cell_type": "markdown",
   "metadata": {},
   "source": [
    "Trying to see if common Bycatch equipments "
   ]
  },
  {
   "cell_type": "markdown",
   "metadata": {},
   "source": [
    "I think duration is not so relevant when predicting if a catch is Bycatch. it is more useful when tryign to predict the species itself, equipment used and such. while with equipments, certain equipment appear more often in Bycatches than others and it differs from species to species. "
   ]
  }
 ],
 "metadata": {
  "kernelspec": {
   "display_name": "venv",
   "language": "python",
   "name": "python3"
  },
  "language_info": {
   "codemirror_mode": {
    "name": "ipython",
    "version": 3
   },
   "file_extension": ".py",
   "mimetype": "text/x-python",
   "name": "python",
   "nbconvert_exporter": "python",
   "pygments_lexer": "ipython3",
   "version": "3.9.18"
  }
 },
 "nbformat": 4,
 "nbformat_minor": 2
}
