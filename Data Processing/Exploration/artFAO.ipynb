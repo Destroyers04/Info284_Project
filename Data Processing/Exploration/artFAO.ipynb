{
 "cells": [
  {
   "cell_type": "markdown",
   "metadata": {},
   "source": [
    "# Finding out if it is possible to predict Bycatch.\n",
    "\n",
    "- We have to see if there are certain species that appears more often than other species as a Bycatch\n",
    "- In our machine learning models we will be using the \"Hovedart FAO\" as the confirmation. This means \"Art FAO\" will be used as a feature. \n",
    "- Lets see if there are certain species where \"Art FAO\" does not align with \"Hovedart FAO\"\n",
    "- So lets say given that the \"Art FAO\" is torsk will it help our ML model predict the \"Hovedart FAO\"?\n",
    "- We have to check if there are certain species that appear as the \"Hovedart FAO\" than others. "
   ]
  },
  {
   "cell_type": "code",
   "execution_count": 3,
   "metadata": {},
   "outputs": [],
   "source": [
    "import warnings # Got an irritating warning\n",
    "warnings.filterwarnings('ignore')\n",
    "import pandas as pd\n",
    "pd.set_option('display.max_columns',None)\n",
    "pd.set_option('display.max_rows', None)\n",
    "import matplotlib.pyplot as plt\n",
    "import numpy as np"
   ]
  },
  {
   "cell_type": "code",
   "execution_count": 4,
   "metadata": {},
   "outputs": [],
   "source": [
    "dataset = pd.read_csv(\"H:\\Informasjonsvitenskap\\Programming\\Python\\Info-284\\Info284_Project\\Exam Task\\Dataset\\elektronisk-rapportering-ers-2018-fangstmelding-dca-simple.csv\", sep=\";\")\n",
    "\n",
    "# Dataset where the species isn't the same as the main-species\n",
    "bycatch = dataset[dataset['Art FAO'] != dataset['Hovedart FAO']]"
   ]
  },
  {
   "cell_type": "code",
   "execution_count": 5,
   "metadata": {},
   "outputs": [
    {
     "name": "stdout",
     "output_type": "stream",
     "text": [
      "Hovedart FAO\n",
      "Torsk                       61152\n",
      "Sei                         47730\n",
      "Dypvannsreke                23444\n",
      "Hyse                        20396\n",
      "Lange                       10973\n",
      "Øyepål                       6692\n",
      "Brosme                       6073\n",
      "Lysing                       4709\n",
      "Snabeluer                    4390\n",
      "Kolmule                      4385\n",
      "Blåkveite                    2638\n",
      "Breiflabb                    2154\n",
      "Sild                         2034\n",
      "Tobis og annen sil           1245\n",
      "Hestmakrell                   927\n",
      "Vassild                       878\n",
      "Flekksteinbit                 747\n",
      "Lyr                           662\n",
      "Uer (vanlig)                  538\n",
      "Rødspette                     434\n",
      "Makrell                       326\n",
      "Brisling                      276\n",
      "Strømsild                     265\n",
      "Strømsild/Vassild             242\n",
      "Lodde                         239\n",
      "Hvitting                      230\n",
      "Pink cusk-eel*                169\n",
      "Gråsteinbit                   169\n",
      "Blåsteinbit                   138\n",
      "Pigghå                        123\n",
      "Reke av  Pandalusslekten      121\n",
      "Annen skate og rokke          101\n",
      "Steinbiter                     94\n",
      "Kveite                         69\n",
      "Sølvtorsk                      63\n",
      "Annen marin fisk               56\n",
      "Taskekrabbe                    53\n",
      "Smørflyndre                    31\n",
      "Blålange                       28\n",
      "Lomre                          23\n",
      "Skjellbrosme                   22\n",
      "Sjøkreps                       18\n",
      "Havmus                         16\n",
      "Akkar                          15\n",
      "Annen torskefisk               11\n",
      "Glassvar                        7\n",
      "Rognkjeks (felles)              7\n",
      "Gapeflyndre                     7\n",
      "Hakes nei. *                    6\n",
      "Skrubbe                         5\n",
      "Laksesild                       5\n",
      "Annen flyndre                   3\n",
      "Sandtunge                       2\n",
      "Sandflyndre                     2\n",
      "Raudåte                         1\n",
      "Nordlig lysprikkfisk            1\n",
      "Various squids nei *            1\n",
      "Name: Art FAO, dtype: int64\n"
     ]
    }
   ],
   "source": [
    "# A count of instances of Bycatch for every main species. \n",
    "count_of_Bycatches_for_every_main_species = bycatch.groupby([\"Hovedart FAO\", \"Art FAO\"])[\"Art FAO\"].count()\n",
    "\n",
    "# The total amount of entries that are Bycatches\n",
    "total_amount_of_Bycatches = count_of_Bycatches_for_every_main_species.groupby(level='Hovedart FAO').sum()\n",
    "print(total_amount_of_Bycatches.sort_values(ascending=False))"
   ]
  },
  {
   "cell_type": "markdown",
   "metadata": {},
   "source": [
    "## Conclusion\n",
    "\n",
    "- As we can see there are certain species that appear more often as Bycatches than others. We can assume that this means a ML model would be able to use this feature to find a pattern to classify Bycatches"
   ]
  }
 ],
 "metadata": {
  "kernelspec": {
   "display_name": "venv",
   "language": "python",
   "name": "python3"
  },
  "language_info": {
   "codemirror_mode": {
    "name": "ipython",
    "version": 3
   },
   "file_extension": ".py",
   "mimetype": "text/x-python",
   "name": "python",
   "nbconvert_exporter": "python",
   "pygments_lexer": "ipython3",
   "version": "3.9.18"
  }
 },
 "nbformat": 4,
 "nbformat_minor": 2
}
